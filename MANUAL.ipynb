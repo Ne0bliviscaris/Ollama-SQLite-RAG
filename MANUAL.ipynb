{
 "cells": [
  {
   "cell_type": "markdown",
   "metadata": {},
   "source": [
    "<h3>Step by step access"
   ]
  },
  {
   "cell_type": "markdown",
   "metadata": {},
   "source": [
    "<h1>SQL Translator model"
   ]
  },
  {
   "cell_type": "code",
   "execution_count": 2,
   "metadata": {},
   "outputs": [
    {
     "name": "stdout",
     "output_type": "stream",
     "text": [
      "SELECT annual_income FROM income WHERE ssn = 100300433;\n"
     ]
    }
   ],
   "source": [
    "from modules.ai.model import model_response\n",
    "\n",
    "question = \"\"\"\n",
    "\n",
    "What is the annual income of person with SSN number 100300433\n",
    "\n",
    "\"\"\"\n",
    "\n",
    "# Step 1: Translate text instructions into SQL query\n",
    "model_answer = model_response(\"SQL Translator\", question)\n",
    "print(model_answer)"
   ]
  },
  {
   "cell_type": "markdown",
   "metadata": {},
   "source": [
    "<h1>SQL Query"
   ]
  },
  {
   "cell_type": "code",
   "execution_count": 4,
   "metadata": {},
   "outputs": [
    {
     "name": "stdout",
     "output_type": "stream",
     "text": [
      "[(74400,)]\n"
     ]
    }
   ],
   "source": [
    "from modules.database.db import execute_sql_query\n",
    "\n",
    "model_response=\"\"\"\n",
    "SELECT annual_income FROM income WHERE ssn = 100300433;\n",
    "\"\"\"\n",
    "\n",
    "\n",
    "prints=False\n",
    "# Step 2: Run SQL query and return the result\n",
    "query_results = execute_sql_query(model_response)\n",
    "print(query_results)"
   ]
  },
  {
   "cell_type": "markdown",
   "metadata": {},
   "source": [
    "<H1>Detective model"
   ]
  },
  {
   "cell_type": "code",
   "execution_count": 6,
   "metadata": {},
   "outputs": [
    {
     "name": "stdout",
     "output_type": "stream",
     "text": [
      "Based on the input provided in the SQL tables, the concise conclusion is:\n",
      "\n",
      "The individual with an annual income of $74,400 (SSN: 2PN280433) is identified as a potential suspect or lead in this investigation. Further analysis and investigation are required to confirm their involvement in the crime.\n"
     ]
    }
   ],
   "source": [
    "# Step 3: Interpret SQL query results and provide a final answer\n",
    "from modules.ai.model import model_response\n",
    "\n",
    "query_results = \"\"\"\n",
    "[(74400,)]\n",
    "\n",
    "\"\"\"\n",
    "\n",
    "\n",
    "rag_answer = model_response(\"Detective\", query_results)\n",
    "print(rag_answer)"
   ]
  }
 ],
 "metadata": {
  "kernelspec": {
   "display_name": "Python 3",
   "language": "python",
   "name": "python3"
  },
  "language_info": {
   "codemirror_mode": {
    "name": "ipython",
    "version": 3
   },
   "file_extension": ".py",
   "mimetype": "text/x-python",
   "name": "python",
   "nbconvert_exporter": "python",
   "pygments_lexer": "ipython3",
   "version": "3.11.5"
  }
 },
 "nbformat": 4,
 "nbformat_minor": 2
}
