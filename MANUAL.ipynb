{
 "cells": [
  {
   "cell_type": "markdown",
   "metadata": {},
   "source": [
    "<h1>SQL Translator model"
   ]
  },
  {
   "cell_type": "code",
   "execution_count": 5,
   "metadata": {},
   "outputs": [
    {
     "name": "stdout",
     "output_type": "stream",
     "text": [
      "SELECT annual_income FROM income WHERE ssn = 100300433;\n"
     ]
    }
   ],
   "source": [
    "from main_pipeline import launch_model\n",
    "from modules.prompt_templates import text_to_query\n",
    "\n",
    "\n",
    "prints=False\n",
    "question = \"\"\"\n",
    "\n",
    "What is the annual income of person with SSN number 100300433\n",
    "\n",
    "\"\"\"\n",
    "\n",
    "# Step 1: Translate text instructions into SQL query\n",
    "model_response = launch_model(\"SQL Translator\", question, text_to_query(), prints)\n",
    "print(model_response)"
   ]
  },
  {
   "cell_type": "markdown",
   "metadata": {},
   "source": [
    "<h1>SQL Query"
   ]
  },
  {
   "cell_type": "code",
   "execution_count": 1,
   "metadata": {},
   "outputs": [
    {
     "name": "stdout",
     "output_type": "stream",
     "text": [
      "('SQL City',)\n"
     ]
    }
   ],
   "source": [
    "from main_pipeline import sql_query\n",
    "\n",
    "\n",
    "model_response=\"\"\"\n",
    "\n",
    "SELECT city FROM crime_scene_report GROUP BY city ORDER BY COUNT(*) DESC LIMIT 1;\n",
    "\n",
    "\n",
    "\"\"\"\n",
    "\n",
    "\n",
    "prints=False\n",
    "# Step 2: Run SQL query and return the result\n",
    "query_results = sql_query(model_response, prints)\n",
    "print(query_results)"
   ]
  },
  {
   "cell_type": "markdown",
   "metadata": {},
   "source": [
    "<H1>Detective model"
   ]
  },
  {
   "cell_type": "code",
   "execution_count": null,
   "metadata": {},
   "outputs": [],
   "source": [
    "# Step 3: Interpret SQL query results and provide a final answer\n",
    "from main_pipeline import launch_model\n",
    "from modules.prompt_templates import conclude\n",
    "\n",
    "prints=False\n",
    "\n",
    "query_results = \"\"\"\n",
    "\n",
    "\n",
    "('SQL City',)\n",
    "\n",
    "\n",
    "\"\"\"\n",
    "\n",
    "\n",
    "rag_answer = launch_model(\"Detective\", query_results, conclude(), prints)\n",
    "print(rag_answer)"
   ]
  }
 ],
 "metadata": {
  "kernelspec": {
   "display_name": "Python 3",
   "language": "python",
   "name": "python3"
  },
  "language_info": {
   "codemirror_mode": {
    "name": "ipython",
    "version": 3
   },
   "file_extension": ".py",
   "mimetype": "text/x-python",
   "name": "python",
   "nbconvert_exporter": "python",
   "pygments_lexer": "ipython3",
   "version": "3.11.5"
  }
 },
 "nbformat": 4,
 "nbformat_minor": 2
}
