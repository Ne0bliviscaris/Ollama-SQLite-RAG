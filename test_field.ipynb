{
 "cells": [
  {
   "cell_type": "markdown",
   "metadata": {},
   "source": [
    "<h1>Connect to SQL via Langchain"
   ]
  },
  {
   "cell_type": "code",
   "execution_count": 2,
   "metadata": {},
   "outputs": [
    {
     "data": {
      "text/plain": [
       "\"[(10000, 'Christoper Peteuil', 993845, 624, 'Bankhall Ave', 747714076), (10007, 'Kourtney Calderwood', 861794, 2791, 'Gustavus Blvd', 477972044), (10010, 'Muoi Cary', 385336, 741, 'Northwestern Dr', 828638512), (10016, 'Era Moselle', 431897, 1987, 'Wood Glade St', 614621061), (10025, 'Trena Hornby', 550890, 276, 'Daws Hill Way', 223877684)]\""
      ]
     },
     "execution_count": 2,
     "metadata": {},
     "output_type": "execute_result"
    }
   ],
   "source": [
    "from langchain_community.utilities import SQLDatabase\n",
    "\n",
    "db_file = (r'files\\sql-murder-mystery.db')\n",
    "db = SQLDatabase.from_uri(f\"sqlite:///{db_file}\")\n",
    "# print(db.dialect)\n",
    "# print(db.get_usable_table_names())\n",
    "\n",
    "QUERY = \"SELECT * FROM person LIMIT 5\"\n",
    "\n",
    "db.run(QUERY)"
   ]
  },
  {
   "cell_type": "code",
   "execution_count": 1,
   "metadata": {},
   "outputs": [
    {
     "name": "stdout",
     "output_type": "stream",
     "text": [
      "Question: How many people are there?\n",
      "\n",
      "SQLQuery: SELECT COUNT(*) FROM person\n"
     ]
    }
   ],
   "source": [
    "from langchain.chains import create_sql_query_chain\n",
    "from langchain_community.llms.ollama import Ollama\n",
    "from langchain_community.utilities import SQLDatabase\n",
    "from files.settings import MODEL, MODEL_URL, DB_FILE\n",
    "# Database connection\n",
    "db = SQLDatabase.from_uri(f\"sqlite:///{DB_FILE}\")\n",
    "# Ollama model connection via Docker\n",
    "llm = Ollama(model=MODEL, base_url=MODEL_URL)\n",
    "chain = create_sql_query_chain(llm, db)\n",
    "# Static instructions for the model\n",
    "STATIC_MESSAGE = 'You are an experienced data scientist. Answer the question verbally and add the SQL query to prove it. Make the query one line so it is easy to test. Use the simplest and most efficient query'\n",
    "# Main question\n",
    "QUESTION = \"How many people are there?\"\n",
    "# Generate response\n",
    "response = chain.invoke({\"question\": f\"{QUESTION} {STATIC_MESSAGE}\"})\n",
    "print(response)"
   ]
  },
  {
   "cell_type": "code",
   "execution_count": 73,
   "metadata": {},
   "outputs": [
    {
     "name": "stdout",
     "output_type": "stream",
     "text": [
      "Liczba osób w bazie danych: [(10011,)]\n"
     ]
    }
   ],
   "source": [
    "# TEST QUERY\n",
    "QUERY = \"SELECT COUNT(*) FROM person\"\n",
    "\n",
    "result = db.run(QUERY)\n",
    "formatted_result = f\"Liczba osób w bazie danych: {result}\"\n",
    "print(formatted_result)"
   ]
  },
  {
   "cell_type": "markdown",
   "metadata": {},
   "source": [
    "<h1>Connect to LLAMA3 over docker"
   ]
  },
  {
   "cell_type": "code",
   "execution_count": 41,
   "metadata": {},
   "outputs": [
    {
     "data": {
      "text/plain": [
       "'A classic!\\n\\n\"Hello, World!\" is a traditional greeting used in many programming languages to introduce a program or script. It\\'s often the first output of a new program, and it\\'s become a sort of iconic phrase in the world of computer programming.\\n\\nSo, what brings you here today? Are you exploring the world of AI, learning about language models like me, or perhaps seeking help with something else entirely? Let\\'s chat!'"
      ]
     },
     "execution_count": 41,
     "metadata": {},
     "output_type": "execute_result"
    }
   ],
   "source": [
    "from langchain_community.llms.ollama import Ollama\n",
    "llm = Ollama(model=MODEL, base_url=MODEL_URL)\n",
    "\n",
    "llm(\"Hello world\")\n"
   ]
  }
 ],
 "metadata": {
  "kernelspec": {
   "display_name": "Python 3",
   "language": "python",
   "name": "python3"
  },
  "language_info": {
   "codemirror_mode": {
    "name": "ipython",
    "version": 3
   },
   "file_extension": ".py",
   "mimetype": "text/x-python",
   "name": "python",
   "nbconvert_exporter": "python",
   "pygments_lexer": "ipython3",
   "version": "3.11.5"
  }
 },
 "nbformat": 4,
 "nbformat_minor": 2
}
